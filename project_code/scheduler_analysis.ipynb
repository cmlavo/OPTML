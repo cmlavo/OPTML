{
 "cells": [
  {
   "cell_type": "markdown",
   "id": "822f1354",
   "metadata": {},
   "source": [
    "# Analyse des Stratégies de Schedulers et Influence d'Epsilon\n",
    "\n",
    "Ce notebook analyse les différentes stratégies de schedulers pour l'apprentissage robuste aux attaques adversaires et évalue l'influence du paramètre epsilon sur ces stratégies."
   ]
  },
  {
   "cell_type": "code",
   "execution_count": null,
   "id": "2a967cfe",
   "metadata": {},
   "outputs": [],
   "source": [
    "# Imports\n",
    "import numpy as np\n",
    "import matplotlib.pyplot as plt\n",
    "from Schedulers import (\n",
    "    ConstantScheduler,\n",
    "    LinearScheduler,\n",
    "    LinearUniformMixScheduler,\n",
    "    ExponentialScheduler,\n",
    "    CyclicScheduler,\n",
    "    RandomScheduler,\n",
    "    CompositeScheduler\n",
    ")\n",
    "import pandas as pd\n",
    "from tqdm import tqdm\n",
    "import seaborn as sns\n",
    "\n",
    "# Configuration\n",
    "K_MIN = 0\n",
    "K_MAX = 10\n",
    "MAX_EPOCHS = 100\n",
    "\n",
    "# Style des plots\n",
    "plt.style.use('seaborn')\n",
    "sns.set_palette('husl')"
   ]
  },
  {
   "cell_type": "markdown",
   "id": "8ca4a815",
   "metadata": {},
   "source": [
    "## 1. Initialisation des Schedulers\n",
    "\n",
    "Nous initialisons tous les schedulers de base avec leurs paramètres par défaut."
   ]
  },
  {
   "cell_type": "code",
   "execution_count": null,
   "id": "bef8a3d4",
   "metadata": {
    "lines_to_next_cell": 1
   },
   "outputs": [],
   "source": [
    "# Initialisation des schedulers de base\n",
    "base_schedulers = {\n",
    "    'Constant': ConstantScheduler(K_MIN, K_MAX),\n",
    "    'Linear': LinearScheduler(K_MIN, K_MAX),\n",
    "    'LinearUniformMix': LinearUniformMixScheduler(K_MIN, K_MAX),\n",
    "    'Exponential': ExponentialScheduler(K_MIN, K_MAX),\n",
    "    'Cyclic': CyclicScheduler(K_MIN, K_MAX),\n",
    "    'Random': RandomScheduler(K_MIN, K_MAX)\n",
    "}\n",
    "\n",
    "# Configuration des stratégies d'epsilon\n",
    "epsilon_configs = {\n",
    "    'constant_small': 0.1,\n",
    "    'constant_medium': 0.3,\n",
    "    'constant_large': 0.5,\n",
    "    'linear': 'linear',\n",
    "    'cyclic': 'cyclic',\n",
    "    'random': 'random'\n",
    "}"
   ]
  },
  {
   "cell_type": "markdown",
   "id": "d92413de",
   "metadata": {},
   "source": [
    "## 2. Collecte des Données des Schedulers"
   ]
  },
  {
   "cell_type": "code",
   "execution_count": null,
   "id": "ffd2ca46",
   "metadata": {},
   "outputs": [],
   "source": [
    "def collect_scheduler_data():\n",
    "    data = []\n",
    "    for scheduler_name, scheduler in tqdm(base_schedulers.items(), desc=\"Collecting data\"):\n",
    "        for epoch in range(MAX_EPOCHS):\n",
    "            eps, k_dist = scheduler(epoch, MAX_EPOCHS)\n",
    "            for k, prob in k_dist.items():\n",
    "                data.append({\n",
    "                    'epoch': epoch,\n",
    "                    'scheduler': scheduler_name,\n",
    "                    'k': k,\n",
    "                    'probability': prob,\n",
    "                    'epsilon': eps\n",
    "                })\n",
    "    return pd.DataFrame(data)\n",
    "\n",
    "# Collecte des données\n",
    "base_df = collect_scheduler_data()\n",
    "base_df.head()"
   ]
  },
  {
   "cell_type": "markdown",
   "id": "fe6333ca",
   "metadata": {},
   "source": [
    "## 3. Visualisation des Stratégies"
   ]
  },
  {
   "cell_type": "code",
   "execution_count": null,
   "id": "d1685467",
   "metadata": {
    "lines_to_next_cell": 1
   },
   "outputs": [],
   "source": [
    "plt.figure(figsize=(15, 10))\n",
    "for scheduler_name in base_schedulers.keys():\n",
    "    scheduler_data = base_df[base_df['scheduler'] == scheduler_name]\n",
    "    plt.plot(scheduler_data['epoch'], scheduler_data['k'], \n",
    "            label=scheduler_name, alpha=0.7)\n",
    "\n",
    "plt.title('Comparison of Different Scheduler Strategies')\n",
    "plt.xlabel('Epoch')\n",
    "plt.ylabel('K Value')\n",
    "plt.legend()\n",
    "plt.grid(True)\n",
    "plt.show()"
   ]
  },
  {
   "cell_type": "markdown",
   "id": "f91e9b91",
   "metadata": {},
   "source": [
    "## 4. Calcul des Métriques des Schedulers"
   ]
  },
  {
   "cell_type": "code",
   "execution_count": null,
   "id": "946ed5b5",
   "metadata": {
    "lines_to_next_cell": 1
   },
   "outputs": [],
   "source": [
    "def calculate_scheduler_metrics(df):\n",
    "    metrics = []\n",
    "    for scheduler_name in base_schedulers.keys():\n",
    "        scheduler_data = df[df['scheduler'] == scheduler_name]\n",
    "        metrics.append({\n",
    "            'scheduler': scheduler_name,\n",
    "            'mean_k': scheduler_data['k'].mean(),\n",
    "            'std_k': scheduler_data['k'].std(),\n",
    "            'k_range': scheduler_data['k'].max() - scheduler_data['k'].min(),\n",
    "            'k_progression': scheduler_data['k'].iloc[-1] - scheduler_data['k'].iloc[0],\n",
    "            'stability': 1 / (1 + scheduler_data['k'].std()),\n",
    "            'coverage': len(scheduler_data['k'].unique()) / (K_MAX - K_MIN + 1)\n",
    "        })\n",
    "    return pd.DataFrame(metrics)\n",
    "\n",
    "# Calcul des métriques\n",
    "metrics_df = calculate_scheduler_metrics(base_df)\n",
    "\n",
    "# Ajout du score global\n",
    "metrics_df['score'] = (\n",
    "    metrics_df['stability'] * 0.3 +\n",
    "    metrics_df['coverage'] * 0.3 +\n",
    "    metrics_df['k_progression'] * 0.4\n",
    ")\n",
    "\n",
    "# Affichage des métriques\n",
    "metrics_df.sort_values('score', ascending=False)"
   ]
  },
  {
   "cell_type": "markdown",
   "id": "60faa04d",
   "metadata": {},
   "source": [
    "## 5. Analyse de l'Influence d'Epsilon"
   ]
  },
  {
   "cell_type": "code",
   "execution_count": null,
   "id": "dcc39802",
   "metadata": {},
   "outputs": [],
   "source": [
    "def analyze_epsilon_influence(best_scheduler):\n",
    "    data = []\n",
    "    for eps_config_name, eps_config in epsilon_configs.items():\n",
    "        if isinstance(eps_config, (int, float)):\n",
    "            scheduler = base_schedulers[best_scheduler].__class__(\n",
    "                K_MIN, K_MAX, epsilon_max=eps_config\n",
    "            )\n",
    "        else:\n",
    "            scheduler = CompositeScheduler(\n",
    "                base_schedulers[best_scheduler].__class__(K_MIN, K_MAX),\n",
    "                epsilon_type=eps_config,\n",
    "                epsilon_min=0.1,\n",
    "                epsilon_max=0.5\n",
    "            )\n",
    "        \n",
    "        for epoch in range(MAX_EPOCHS):\n",
    "            eps, k_dist = scheduler(epoch, MAX_EPOCHS)\n",
    "            for k, prob in k_dist.items():\n",
    "                data.append({\n",
    "                    'epoch': epoch,\n",
    "                    'epsilon_config': eps_config_name,\n",
    "                    'k': k,\n",
    "                    'epsilon': eps,\n",
    "                    'probability': prob\n",
    "                })\n",
    "    return pd.DataFrame(data)\n",
    "\n",
    "# Récupération du meilleur scheduler\n",
    "best_scheduler = metrics_df.loc[metrics_df['score'].idxmax(), 'scheduler']\n",
    "print(f\"Meilleur scheduler identifié : {best_scheduler}\")\n",
    "\n",
    "# Analyse de l'influence d'epsilon\n",
    "epsilon_df = analyze_epsilon_influence(best_scheduler)\n",
    "epsilon_df.head()"
   ]
  },
  {
   "cell_type": "markdown",
   "id": "1b769761",
   "metadata": {},
   "source": [
    "## 6. Visualisation de l'Influence d'Epsilon"
   ]
  },
  {
   "cell_type": "code",
   "execution_count": null,
   "id": "8905a5b4",
   "metadata": {},
   "outputs": [],
   "source": [
    "plt.figure(figsize=(15, 10))\n",
    "for eps_config in epsilon_configs.keys():\n",
    "    config_data = epsilon_df[epsilon_df['epsilon_config'] == eps_config]\n",
    "    plt.plot(config_data['epoch'], config_data['k'], \n",
    "            label=f'ε={eps_config}', alpha=0.7)\n",
    "\n",
    "plt.title(f'Influence of Epsilon on {best_scheduler} Scheduler')\n",
    "plt.xlabel('Epoch')\n",
    "plt.ylabel('K Value')\n",
    "plt.legend()\n",
    "plt.grid(True)\n",
    "plt.show()"
   ]
  },
  {
   "cell_type": "markdown",
   "id": "f1e033b5",
   "metadata": {},
   "source": [
    "## 7. Métriques d'Influence d'Epsilon"
   ]
  },
  {
   "cell_type": "code",
   "execution_count": null,
   "id": "94d3ae06",
   "metadata": {},
   "outputs": [],
   "source": [
    "epsilon_metrics = []\n",
    "for eps_config in epsilon_configs.keys():\n",
    "    config_data = epsilon_df[epsilon_df['epsilon_config'] == eps_config]\n",
    "    epsilon_metrics.append({\n",
    "        'epsilon_config': eps_config,\n",
    "        'mean_k': config_data['k'].mean(),\n",
    "        'std_k': config_data['k'].std(),\n",
    "        'k_range': config_data['k'].max() - config_data['k'].min(),\n",
    "        'mean_epsilon': config_data['epsilon'].mean()\n",
    "    })\n",
    "\n",
    "epsilon_metrics_df = pd.DataFrame(epsilon_metrics)\n",
    "epsilon_metrics_df"
   ]
  },
  {
   "cell_type": "markdown",
   "id": "6db859fe",
   "metadata": {},
   "source": [
    "## 8. Conclusion\n",
    "\n",
    "À partir des analyses précédentes, nous pouvons conclure :\n",
    "1. La meilleure stratégie de scheduler est [résultat]\n",
    "2. L'influence d'epsilon sur cette stratégie est [significative/négligeable]\n",
    "3. La meilleure configuration d'epsilon est [résultat]\n",
    "\n",
    "Ces résultats suggèrent que [conclusion sur l'importance d'epsilon et les recommandations pour l'utilisation des schedulers]. "
   ]
  }
 ],
 "metadata": {
  "jupytext": {
   "cell_metadata_filter": "-all",
   "main_language": "python",
   "notebook_metadata_filter": "-all"
  },
  "language_info": {
   "name": "python"
  }
 },
 "nbformat": 4,
 "nbformat_minor": 5
}
