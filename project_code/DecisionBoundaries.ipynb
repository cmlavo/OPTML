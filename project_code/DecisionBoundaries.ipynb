{
 "cells": [
  {
   "cell_type": "markdown",
   "id": "40364453",
   "metadata": {},
   "source": [
    "Script implements a few decision boundary visualization methods for the CNNs trained on adversarial examples in this project. GitHub repos for relevant studies:\n",
    "\n",
    "- https://github.com/mespadoto/sdbm (uses https://github.com/mespadoto/ssnp)\n",
    "- https://github.com/sunblaze-ucb/decision-boundaries\n",
    "- https://github.com/umd-huang-lab/Dynamics-Aware-Robust-Training\n",
    "- https://github.com/gaurav-kaushik/Data-Visualizations-Medium\n",
    "- https://github.com/MapperInteractive/MapperInteractive/tree/MIAT"
   ]
  },
  {
   "cell_type": "code",
   "execution_count": null,
   "id": "90689db8",
   "metadata": {},
   "outputs": [],
   "source": [
    "# Importing necessary packages, and repos from decision boundary visualization studies\n",
    "\n",
    "# Importing basic libraries for math and ML\n",
    "import torch\n",
    "import os\n",
    "from torchvision import datasets, transforms\n",
    "\n",
    "import numpy as np\n",
    "from sklearn.utils.extmath import cartesian\n",
    "from tqdm import tqdm\n",
    "import matplotlib.pyplot as plt\n",
    "import matplotlib.cm as cm\n",
    "import Models\n"
   ]
  },
  {
   "cell_type": "code",
   "execution_count": null,
   "id": "79ec53ec",
   "metadata": {},
   "outputs": [],
   "source": [
    "# Importing MNIST dataset from ../data folder\n",
    "data_dir = os.path.abspath(os.path.join(os.getcwd(), \"../data\"))\n",
    "MNIST_data = datasets.MNIST(root=data_dir, train=False, download=True, transform=transforms.ToTensor())"
   ]
  },
  {
   "cell_type": "code",
   "execution_count": null,
   "id": "a8ce8e9c",
   "metadata": {},
   "outputs": [],
   "source": [
    "# Importing the classification model\n",
    "MNIST_classifier = Models.SmallConvNet()\n",
    "MNIST_classifier.load_state_dict(torch.load(...))\n",
    "MNIST_classifier.eval()\n",
    "MNIST_classifier.device()"
   ]
  }
 ],
 "metadata": {
  "kernelspec": {
   "display_name": "OPTML_env",
   "language": "python",
   "name": "python3"
  },
  "language_info": {
   "codemirror_mode": {
    "name": "ipython",
    "version": 3
   },
   "file_extension": ".py",
   "mimetype": "text/x-python",
   "name": "python",
   "nbconvert_exporter": "python",
   "pygments_lexer": "ipython3",
   "version": "3.12.9"
  }
 },
 "nbformat": 4,
 "nbformat_minor": 5
}
